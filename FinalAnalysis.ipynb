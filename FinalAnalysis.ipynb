{
 "cells": [
  {
   "cell_type": "markdown",
   "metadata": {},
   "source": [
    "# What is The Best Neighborhood In Pittsburgh?\n",
    "by Casey Dinan, Kyle Bello, and Nate Quigley"
   ]
  },
  {
   "cell_type": "markdown",
   "metadata": {},
   "source": [
    "Food is what brings all people together. It is the driving force of energy, happiness, and life. Without food, we are nothing.\n",
    "\n",
    "Our project today deals with exactly that: food. Specifically, food in Alleghany County.\n",
    "\n",
    "Coming into this project, we did had no idea what our metric was going to be. After being inspired by a dataset about Fish Fry Locations in Alleghany County, our group went down the rabit hole of food-adjacent datasets to found on the WPRDC. After finding some compelling data and interesting datasets, we figured out what best meant to us. Our metric for the best town is Pittsburgh is:"
   ]
  },
  {
   "cell_type": "markdown",
   "metadata": {},
   "source": [
    "#### Food and Food Availibility"
   ]
  },
  {
   "cell_type": "markdown",
   "metadata": {},
   "source": [
    "What may seem to be a rather mundane metric, food and food availibilty in Alleghany county is more interesting than it seems. Our metric involves measuring how availible food is in every town, using data from grocery stores to fast food. We came up with this metric after finding multiple datasets dealing with food availiblty by zip code/county."
   ]
  },
  {
   "cell_type": "markdown",
   "metadata": {},
   "source": [
    "### Datsets:\n",
    "1. [Supermarkets/Convenience Stores in Allegeny County](https://data.wprdc.org/dataset/allegheny-county-fast-food)\n",
    "2. [Fast Food Establishments in Allegheny County](https://data.wprdc.org/dataset/allegheny-county-fast-food)\n",
    "3. [Farmers Markets In Allegheny County]()"
   ]
  },
  {
   "cell_type": "markdown",
   "metadata": {},
   "source": [
    "These datasets allow us to look at each town in Pittsburgh, figure out how much food is availible by location, and decide the quality of said food by referencing it with obesity rates of each town. With that, lets take a look at our findings!"
   ]
  },
  {
   "cell_type": "markdown",
   "metadata": {},
   "source": [
    "# [1. Allegeny County Markets](./SupermarketsAnalysis.ipynb)\n",
    "By: Casey Dinan"
   ]
  },
  {
   "cell_type": "markdown",
   "metadata": {},
   "source": [
    "## Results\n",
    "From this dataset we can conclude that, by our metric, the towns that have the best are:\n",
    "\n",
    "1. Shadyside\n",
    "2. Squirrel Hill\n",
    "3. East Liberty\n",
    "4. Point Breeze\n",
    "\n",
    "Each of these either contains the greatest number of supermarkets, or is in close proximity to markets in neighboring neighborhoods. Due to the wide availability in these neighborhoods, they came out on top in the supermarket metric. \n",
    "\n",
    "## Data Conclusion\n",
    "This data set provided a vast amount of information on all food facilities in Alleghany County. This provided the ability to extract any relevant data from the set, in this case information regarding supermarkets. Not only did the data provide an accurate reflection of Pittsburgh, but the extensive details it provided allowed for insightful conclusions to be drawn. "
   ]
  },
  {
   "cell_type": "markdown",
   "metadata": {},
   "source": [
    "# [2. Alleghany County Fast Food Establishments](./fastFoodData.ipynb)\n",
    "By: Kyle Bello"
   ]
  },
  {
   "cell_type": "markdown",
   "metadata": {},
   "source": [
    "## Results\n",
    "\n",
    "Looking at this dataset, we found these towns to have the most food options:\n",
    "\n",
    "1. Strip District (Downtown)\n",
    "2. Oakland (North Oakland, South Oakland, Shadyside)\n",
    "3. Hill Disrict (Middle Hill, Upper Hill, Crawford-Roberts)\n",
    "4. Pittsburgh (Squirrel Hill, Greenfield)\n",
    "\n",
    "Look at the previous dataset, Squirrel Hill and Shadyside again make an appearance. Currently, Shadyside offers the best proximity to supermakrets and is the closest to more fast food."
   ]
  },
  {
   "cell_type": "markdown",
   "metadata": {},
   "source": [
    "## Data Conclusion\n",
    "This dataset offered a lot of great information about fast food establishments in Alleghany County. While it was not the most focused to Pittsburgh, it still porvided plenty of useful information regarding fast food/restaurant availibilty in and around Pittsburgh. As well, it was fairly simple to use with a shape file of the city, as both contained zip code information. Overall, this dataset was a great addition to our project."
   ]
  },
  {
   "cell_type": "markdown",
   "metadata": {},
   "source": [
    "# [3. Alleghany Farmers Markets](./FarmersMarkerts.ipynb)\n",
    "By: Nate Quigley"
   ]
  },
  {
   "cell_type": "markdown",
   "metadata": {},
   "source": [
    "## Results\n",
    "\n",
    "1. Point Breeze North\n",
    "2. Point Breeze\n",
    "3. Homewood West\n",
    "4. Homewood South\n",
    "\n",
    "All four of these locations are in the same vicinity of each other, and compared to the first data set above, Point Breeze seems to appear a second time, while for this specific data set, Point Breeze North claims the most Farmer's Market options."
   ]
  },
  {
   "cell_type": "markdown",
   "metadata": {},
   "source": [
    "## Data Conclusion\n",
    "\n",
    "The dataset on farmers markets in Pittsburgh provided me with valuable information on the distribution of fresh food across different neighborhoods. Using this dataset, I was able to identify the neighborhoods with the highest concentration of farmers markets, which helped me to determine the neighborhoods with the best food availability, hence higher food quality."
   ]
  },
  {
   "cell_type": "markdown",
   "metadata": {},
   "source": [
    "## Overarching Metric\n",
    "\n",
    "Our overall metric is food quality per neighboorhood, which is a composite ranking of the three subrankings. To properly quantify this, the intersection of all our metrics can be taken. This will allow neighboorhoods with all factors to be prioritized, as every metric is important to the overall food quality in a given area. In the event that neighboorhoods have the same amount of intersections, the rankings within the lists they occured on will be taken into account as a tie breaker."
   ]
  },
  {
   "cell_type": "markdown",
   "metadata": {},
   "source": [
    "## Results\n",
    "\n",
    "1. Shadyside\n",
    "2. Point Breeze\n",
    "3. Squirrel Hill"
   ]
  },
  {
   "cell_type": "markdown",
   "metadata": {},
   "source": [
    "## Data Conclusion\n",
    "\n",
    "The overall composite rankings yeild interesting results. While it would be assumed that the more developed downtown areas of Pittsburgh would provide the greatest diversity of food options, it is actually the more suburban areas such as Shadyside and Squirrel Hill. Downtown had a plethora of fast food options, but markets in general appear to be consintrated outside the urban centers. This is a good indication of why Pittsburgh's suberbs are so diserable for both young adults and families alike, as they provide far superior food options to the rest of the Pittsburgh area."
   ]
  }
 ],
 "metadata": {
  "kernelspec": {
   "display_name": "Python 3",
   "language": "python",
   "name": "python3"
  },
  "language_info": {
   "codemirror_mode": {
    "name": "ipython",
    "version": 3
   },
   "file_extension": ".py",
   "mimetype": "text/x-python",
   "name": "python",
   "nbconvert_exporter": "python",
   "pygments_lexer": "ipython3",
   "version": "3.8.3"
  }
 },
 "nbformat": 4,
 "nbformat_minor": 4
}
