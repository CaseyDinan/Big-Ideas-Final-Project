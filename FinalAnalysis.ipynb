{
 "cells": [
  {
   "attachments": {},
   "cell_type": "markdown",
   "metadata": {},
   "source": [
    "# What is The Best Neighborhood In Pittsburgh?\n",
    "by Casey Dinan, Kyle Bello, and Nate Quigley"
   ]
  },
  {
   "attachments": {},
   "cell_type": "markdown",
   "metadata": {},
   "source": [
    "Food is what brings all people together. It is the driving force of energy, happiness, and life. Without food, we are nothing.\n",
    "\n",
    "Our project today deals with exactly that: food. Specifically, food in Alleghany County.\n",
    "\n",
    "Coming into this project, we did had no idea what our metric was going to be. After being inspired by a dataset about Fish Fry Locations in Alleghany County, our group went down the rabit hole of food-adjacent datasets to found on the WPRDC. After finding some compelling data and interesting datasets, we figured out what best meant to us. Our metric for the best town is Pittsburgh is:"
   ]
  },
  {
   "attachments": {},
   "cell_type": "markdown",
   "metadata": {},
   "source": [
    "#### Food and Food Availibility"
   ]
  },
  {
   "attachments": {},
   "cell_type": "markdown",
   "metadata": {},
   "source": [
    "What may seem to be a rather mundane metric, food and food availibilty in Alleghany county is more interesting than it seems. Our metric involves measuring how availible food is in every town, as well as the quality of said food based on obesity statistics. We came up with this metric after finding multiple datasets dealing with food availiblty by zip code/county. As well, the obesity statistics of Alleghany County also proved to be an interesting factor when compared to our other datasets. For our datasets, we have choosen 3 that represent our metric best:"
   ]
  },
  {
   "attachments": {},
   "cell_type": "markdown",
   "metadata": {},
   "source": [
    "### Datsets:\n",
    "1. [Supermarkets/Convenience Stores in Allegany County](https://data.wprdc.org/dataset/allegheny-county-fast-food) - used for supermarket availibilty\n",
    "2. [Fast Food Establishments in Alleghany County](https://data.wprdc.org/dataset/allegheny-county-fast-food) - used for fast food availibility\n",
    "3. [Obesity Rates in Alleghany County](https://data.wprdc.org/dataset/allegheny-county-obesity-rates) - used for food quality"
   ]
  },
  {
   "attachments": {},
   "cell_type": "markdown",
   "metadata": {},
   "source": [
    "These datasets allow us to look at each town in Pittsburgh, figure out how much food is availible by location, and decide the quality of said food by referencing it with obesity rates of each town. With that, lets take a look at our findings!"
   ]
  },
  {
   "attachments": {},
   "cell_type": "markdown",
   "metadata": {},
   "source": [
    "# [1. Allegeny County Markets](./SupermarketsAnalysis.ipynb)\n",
    "by Casey Dinan"
   ]
  },
  {
   "attachments": {},
   "cell_type": "markdown",
   "metadata": {},
   "source": [
    "## Results\n",
    "From this dataset we can conclude that, by our metric, the towns that have the best are:\n",
    "\n",
    "1. Shadyside\n",
    "2. Squirrel Hill\n",
    "3. East Liberty\n",
    "4. Point Breeze\n",
    "\n",
    "Each of these is in close proximity to many supermarkets, having a wide variety of "
   ]
  },
  {
   "attachments": {},
   "cell_type": "markdown",
   "metadata": {},
   "source": [
    "# [2. Alleghany County Fast Food Establishments](./fastFoodData.ipynb)\n",
    "by Kyle Bello"
   ]
  },
  {
   "attachments": {},
   "cell_type": "markdown",
   "metadata": {},
   "source": [
    "## Results\n",
    "\n",
    "Looking at this dataset, we found these towns to have the most food options:\n",
    "\n",
    "1. Strip District (Downtown)\n",
    "2. Oakland (North Oakland, South Oakland, Shadyside)\n",
    "3. Hill Disrict (Middle Hill, Upper Hill, Crawford-Roberts)\n",
    "4. Pittsburgh (Squirrel Hill, Greenfield)\n",
    "\n",
    "Look at the previous dataset, Squirrel Hill and Shadyside again make an appearance. Currently, Shadyside offers the best proximity to supermakrets and is the closest to more fast food."
   ]
  },
  {
   "attachments": {},
   "cell_type": "markdown",
   "metadata": {},
   "source": [
    "## Data Conclusion\n",
    "This dataset offered a lot of great information about fast food establishments in Alleghany County. While it was not the most focused to Pittsburgh, it still porvided plenty of useful information regarding fast food/restaurant availibilty in and around Pittsburgh. As well, it was fairly simple to use with a shape file of the city, as both contained zip code information. Overall, this dataset was a great addition to our project."
   ]
  },
  {
   "attachments": {},
   "cell_type": "markdown",
   "metadata": {},
   "source": [
    "# [3. Alleghany County Obesity Rates]()\n",
    "by Nate Quigley"
   ]
  }
 ],
 "metadata": {
  "kernelspec": {
   "display_name": "Python 3",
   "language": "python",
   "name": "python3"
  },
  "language_info": {
   "codemirror_mode": {
    "name": "ipython",
    "version": 3
   },
   "file_extension": ".py",
   "mimetype": "text/x-python",
   "name": "python",
   "nbconvert_exporter": "python",
   "pygments_lexer": "ipython3",
   "version": "3.11.3"
  },
  "orig_nbformat": 4
 },
 "nbformat": 4,
 "nbformat_minor": 2
}
